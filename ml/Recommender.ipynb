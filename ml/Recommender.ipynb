{
  "nbformat": 4,
  "nbformat_minor": 0,
  "metadata": {
    "colab": {
      "provenance": []
    },
    "kernelspec": {
      "name": "python3",
      "display_name": "Python 3"
    },
    "language_info": {
      "name": "python"
    }
  },
  "cells": [
    {
      "cell_type": "code",
      "source": [
        "import random"
      ],
      "metadata": {
        "id": "hJolicTr-E6Q"
      },
      "execution_count": 18,
      "outputs": []
    },
    {
      "cell_type": "code",
      "source": [
        "foundation_courses_1 = [\"BSMA1001\", \"BSMA1002\", \"BSCS1001\", \"BSHS1001\"]\n",
        "foundation_courses_2 = [\"BSMA1003\", \"BSMA1004\", \"BSCS1002\", \"BSHS1002\"]\n",
        "\n",
        "diploma_courses_1 = [\"BSCS2001\", \"BSCS2002\", \"BSCS2003\", \"BSCS2005\", \"BSSE2001\"]\n",
        "diploma_courses_2 = [\"BSCS2006\"]\n",
        "diploma_courses_3 = [\"BSCS2004\", \"BSMS2001\", \"BSCS2007\", \"BSSE2002\"]\n",
        "diploma_courses_4 = [\"BSCS2008\", \"BSMS2002\"]\n",
        "\n",
        "degree_courses_1 = [\"BSCS3001\", \"BSCS3002\", \"BSGN3001\", \"BSCS3003\", \"BSCS3004\"]\n",
        "degree_courses_2 = [\"BSBT4001\", \"BSBT4002\", \"BSCS3005\", \"BSCS4001\", \"BSEE4001\", \"BSMS3001\", \"BSMS4001\", \"BSCS4004\", \"BSMS3002\", \"BSCS3007\", \"BSCS3006\", \"BSGN3002\", \"BSMA3012\", \"BSCS4021\", \"BSMA3014\", \"BSCS3005\", \"BSMA2001\"]\n",
        "degree_courses_3 = [\"BSCS4002\", \"BSCS4003\", \"BSCS3031\"]"
      ],
      "metadata": {
        "id": "EvcI2yVgAf8i"
      },
      "execution_count": 24,
      "outputs": []
    },
    {
      "cell_type": "code",
      "execution_count": 22,
      "metadata": {
        "id": "Van1FMeI8G_v"
      },
      "outputs": [],
      "source": [
        "def predict_courses(courses_done: list()):\n",
        "  all_courses = random.sample(foundation_courses_1, len(foundation_courses_1)) + random.sample(foundation_courses_2, len(foundation_courses_2)) + random.sample(diploma_courses_1, len(diploma_courses_1)) + random.sample(diploma_courses_2, len(diploma_courses_2)) + random.sample(diploma_courses_3, len(diploma_courses_3)) + random.sample(diploma_courses_4, len(diploma_courses_4)) + random.sample(degree_courses_1, len(degree_courses_1)) + random.sample(degree_courses_2, len(degree_courses_2)) + random.sample(degree_courses_3, len(degree_courses_3))\n",
        "  all_courses = [course for course in all_courses if course not in courses_done]\n",
        "  return all_courses[:(34 - len(courses_done))]"
      ]
    },
    {
      "cell_type": "code",
      "source": [
        "predict_courses(foundation_courses_1)"
      ],
      "metadata": {
        "colab": {
          "base_uri": "https://localhost:8080/"
        },
        "id": "sDaNXlmpm-sy",
        "outputId": "63c193ee-9a79-45ac-f5e5-45457eb74313"
      },
      "execution_count": 25,
      "outputs": [
        {
          "output_type": "execute_result",
          "data": {
            "text/plain": [
              "['BSMA1004',\n",
              " 'BSMA1003',\n",
              " 'BSCS1002',\n",
              " 'BSHS1002',\n",
              " 'BSSE2001',\n",
              " 'BSCS2001',\n",
              " 'BSCS2002',\n",
              " 'BSCS2003',\n",
              " 'BSCS2005',\n",
              " 'BSCS2006',\n",
              " 'BSCS2004',\n",
              " 'BSCS2007',\n",
              " 'BSSE2002',\n",
              " 'BSMS2001',\n",
              " 'BSCS2008',\n",
              " 'BSMS2002',\n",
              " 'BSCS3001',\n",
              " 'BSGN3001',\n",
              " 'BSCS3003',\n",
              " 'BSCS3002',\n",
              " 'BSCS3004',\n",
              " 'BSBT4002',\n",
              " 'BSCS3005',\n",
              " 'BSCS3006',\n",
              " 'BSBT4001',\n",
              " 'BSMA2001',\n",
              " 'BSCS3007',\n",
              " 'BSCS3005',\n",
              " 'BSCS4021',\n",
              " 'BSMS4001']"
            ]
          },
          "metadata": {},
          "execution_count": 25
        }
      ]
    }
  ]
}